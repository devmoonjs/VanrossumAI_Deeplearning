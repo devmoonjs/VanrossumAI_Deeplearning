{
 "cells": [
  {
   "cell_type": "markdown",
   "id": "bb42aa29",
   "metadata": {},
   "source": [
    "#### 원본 폴더명: 'combineNormal', 'refine_mild', 'refine_moderate', 'severe'\n",
    "\n",
    "#### 새 폴더명: 'idgNormal', 'idgMild', 'idgModerate', 'idgSevere'\n",
    "datapath = \"C:/jupyter/capston/bald/data/corneous/combineNormal\""
   ]
  },
  {
   "cell_type": "markdown",
   "id": "0f3ea905",
   "metadata": {},
   "source": [
    "#### 'manhattan_mild', 'manhattan_moderate'\n",
    "#### 'idg_manhattan_mild', 'idg_manhattan_moderate'\n"
   ]
  },
  {
   "cell_type": "markdown",
   "id": "f4612ed5",
   "metadata": {},
   "source": [
    "# 20230901\n",
    "\n",
    "#### 'combineNormal', 'severe'\n",
    "#### '0901_Idg_Normal', '0901_Idg_Severe'"
   ]
  },
  {
   "cell_type": "code",
   "execution_count": 3,
   "id": "f743ff73",
   "metadata": {},
   "outputs": [
    {
     "name": "stdout",
     "output_type": "stream",
     "text": [
      "총 14610개의 이미지가 증강되어 저장되었습니다.\n"
     ]
    }
   ],
   "source": [
    "import os\n",
    "from shutil import copyfile\n",
    "from tensorflow.keras.preprocessing.image import ImageDataGenerator, img_to_array, load_img\n",
    "\n",
    "# 원본 이미지가 있는 폴더 경로\n",
    "original_data_dir = 'C:/jupyter/capston/bald/data/corneous/moderate/'\n",
    "\n",
    "# 증강된 이미지를 저장할 폴더 경로\n",
    "augmented_data_dir = 'C:/jupyter/capston/bald/data/corneous/0918_Idg_moderate/'\n",
    "\n",
    "# 이미지 데이터 증강을 위한 ImageDataGenerator 객체 생성\n",
    "datagen = ImageDataGenerator(\n",
    "    rotation_range=5,              # 이미지 회전 각도 범위를 5도로 설정\n",
    "    width_shift_range=0.02,       # 가로 이동 범위를 이미지 너비의 2%로 설정\n",
    "    height_shift_range=0.02,      # 세로 이동 범위를 이미지 높이의 2%로 설정\n",
    "    fill_mode='nearest',          # 이미지 변형 시 새로운 픽셀을 가장 가까운 픽셀 값으로 채움\n",
    "    vertical_flip=True,           # 상하 반전 활성화\n",
    "    horizontal_flip=True          # 좌우 반전 활성화\n",
    ")\n",
    "\n",
    "# 원본 이미지 파일 목록을 가져옴\n",
    "original_files = os.listdir(original_data_dir)\n",
    "\n",
    "# 저장할 폴더가 없으면 생성\n",
    "if not os.path.exists(augmented_data_dir):\n",
    "    os.makedirs(augmented_data_dir)\n",
    "\n",
    "# 모든 이미지를 증강하고 저장\n",
    "for filename in original_files:\n",
    "    img = load_img(os.path.join(original_data_dir, filename))  # 이미지 로드\n",
    "    x = img_to_array(img)  # 이미지를 넘파이 배열로 변환\n",
    "    x = x.reshape((1,) + x.shape)  # 배열을 배치 형태로 변환\n",
    "\n",
    "    # 이미지를 생성하면서 증강하여 저장\n",
    "    i = 0\n",
    "    for batch in datagen.flow(x, batch_size=1, save_to_dir=augmented_data_dir, save_prefix='idg_' + filename.split('.')[0] + '_' + str(i+1), save_format='jpeg'):\n",
    "        i += 1\n",
    "        if i >= 8:  # 4배 증강 필요에 따라 변경하면 됨\n",
    "            break\n",
    "    \n",
    "    # 원본 이미지를 복사하여 저장\n",
    "    original_image_path = os.path.join(augmented_data_dir, filename)\n",
    "    copyfile(os.path.join(original_data_dir, filename), original_image_path)\n",
    "\n",
    "# 증강된 이미지의 개수 확인\n",
    "augmented_image_count = len(os.listdir(augmented_data_dir))\n",
    "print(f\"총 {augmented_image_count}개의 이미지가 증강되어 저장되었습니다.\")\n"
   ]
  },
  {
   "cell_type": "code",
   "execution_count": 5,
   "id": "176d0e6f",
   "metadata": {},
   "outputs": [
    {
     "name": "stdout",
     "output_type": "stream",
     "text": [
      "총 10498개의 이미지가 증강되어 저장되었습니다.\n"
     ]
    }
   ],
   "source": [
    "import os\n",
    "import random\n",
    "from shutil import copyfile\n",
    "from tensorflow.keras.preprocessing.image import ImageDataGenerator, img_to_array, load_img\n",
    "\n",
    "# 원본 이미지가 있는 폴더 경로\n",
    "original_data_dir = 'C:/jupyter/capston/bald/data/corneous/moderate/'\n",
    "\n",
    "# 증강된 이미지를 저장할 폴더 경로\n",
    "augmented_data_dir = 'C:/jupyter/capston/bald/data/corneous/0918_Idg_moderate2/'\n",
    "\n",
    "# 무작위로 선택할 이미지 개수\n",
    "num_images_to_augment = 1500\n",
    "\n",
    "# 이미지 데이터 증강을 위한 ImageDataGenerator 객체 생성\n",
    "datagen = ImageDataGenerator(\n",
    "    rotation_range=5,              # 이미지 회전 각도 범위를 5도로 설정\n",
    "    width_shift_range=0.02,       # 가로 이동 범위를 이미지 너비의 2%로 설정\n",
    "    height_shift_range=0.02,      # 세로 이동 범위를 이미지 높이의 2%로 설정\n",
    "    fill_mode='nearest',          # 이미지 변형 시 새로운 픽셀을 가장 가까운 픽셀 값으로 채움\n",
    "    vertical_flip=True,           # 상하 반전 활성화\n",
    "    horizontal_flip=True          # 좌우 반전 활성화\n",
    ")\n",
    "\n",
    "# 원본 이미지 파일 목록을 가져옴\n",
    "original_files = os.listdir(original_data_dir)\n",
    "\n",
    "# 저장할 폴더가 없으면 생성\n",
    "if not os.path.exists(augmented_data_dir):\n",
    "    os.makedirs(augmented_data_dir)\n",
    "\n",
    "# 무작위로 1500장의 이미지 선택\n",
    "random.seed(42)  # 무작위 선택을 위해 시드 설정\n",
    "selected_images = random.sample(original_files, num_images_to_augment)\n",
    "\n",
    "# 선택한 이미지를 증강하고 저장\n",
    "for filename in selected_images:\n",
    "    img = load_img(os.path.join(original_data_dir, filename))  # 이미지 로드\n",
    "    x = img_to_array(img)  # 이미지를 넘파이 배열로 변환\n",
    "    x = x.reshape((1,) + x.shape)  # 배열을 배치 형태로 변환\n",
    "\n",
    "    # 이미지를 생성하면서 증강하여 저장\n",
    "    i = 0\n",
    "    for batch in datagen.flow(x, batch_size=1, save_to_dir=augmented_data_dir, save_prefix='idg_' + filename.split('.')[0] + '_' + str(i+1), save_format='jpeg'):\n",
    "        i += 1\n",
    "        if i >= 6:  # 6배 증강 필요에 따라 변경하면 됨\n",
    "            break\n",
    "    \n",
    "    # 원본 이미지를 복사하여 저장\n",
    "    original_image_path = os.path.join(augmented_data_dir, filename)\n",
    "    copyfile(os.path.join(original_data_dir, filename), original_image_path)\n",
    "\n",
    "# 증강된 이미지의 개수 확인\n",
    "augmented_image_count = len(os.listdir(augmented_data_dir))\n",
    "print(f\"총 {augmented_image_count}개의 이미지가 증강되어 저장되었습니다.\")"
   ]
  },
  {
   "cell_type": "code",
   "execution_count": null,
   "id": "09418623",
   "metadata": {},
   "outputs": [],
   "source": []
  }
 ],
 "metadata": {
  "kernelspec": {
   "display_name": "Python 3 (ipykernel)",
   "language": "python",
   "name": "python3"
  },
  "language_info": {
   "codemirror_mode": {
    "name": "ipython",
    "version": 3
   },
   "file_extension": ".py",
   "mimetype": "text/x-python",
   "name": "python",
   "nbconvert_exporter": "python",
   "pygments_lexer": "ipython3",
   "version": "3.9.13"
  }
 },
 "nbformat": 4,
 "nbformat_minor": 5
}
